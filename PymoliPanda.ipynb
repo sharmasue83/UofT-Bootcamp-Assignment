{
 "cells": [
  {
   "cell_type": "code",
   "execution_count": 2,
   "metadata": {},
   "outputs": [
    {
     "ename": "FileNotFoundError",
     "evalue": "File b'purchase_data.csv' does not exist",
     "output_type": "error",
     "traceback": [
      "\u001b[1;31m---------------------------------------------------------------------------\u001b[0m",
      "\u001b[1;31mFileNotFoundError\u001b[0m                         Traceback (most recent call last)",
      "\u001b[1;32m<ipython-input-2-a5d26af2f180>\u001b[0m in \u001b[0;36m<module>\u001b[1;34m()\u001b[0m\n\u001b[0;32m      4\u001b[0m \u001b[1;33m\u001b[0m\u001b[0m\n\u001b[0;32m      5\u001b[0m \u001b[1;31m# File to Load (Remember to Change These)\u001b[0m\u001b[1;33m\u001b[0m\u001b[1;33m\u001b[0m\u001b[0m\n\u001b[1;32m----> 6\u001b[1;33m \u001b[0mpurchase_data\u001b[0m \u001b[1;33m=\u001b[0m  \u001b[0mpd\u001b[0m\u001b[1;33m.\u001b[0m\u001b[0mread_csv\u001b[0m\u001b[1;33m(\u001b[0m\u001b[1;34m\"purchase_data.csv\"\u001b[0m\u001b[1;33m)\u001b[0m\u001b[1;33m\u001b[0m\u001b[0m\n\u001b[0m\u001b[0;32m      7\u001b[0m \u001b[1;33m\u001b[0m\u001b[0m\n\u001b[0;32m      8\u001b[0m \u001b[0mpurchase_df\u001b[0m \u001b[1;33m=\u001b[0m \u001b[0mpd\u001b[0m\u001b[1;33m.\u001b[0m\u001b[0mDataFrame\u001b[0m\u001b[1;33m(\u001b[0m\u001b[0mpurchase_data\u001b[0m\u001b[1;33m)\u001b[0m\u001b[1;33m\u001b[0m\u001b[0m\n",
      "\u001b[1;32mC:\\Intel\\New folder\\lib\\site-packages\\pandas\\io\\parsers.py\u001b[0m in \u001b[0;36mparser_f\u001b[1;34m(filepath_or_buffer, sep, delimiter, header, names, index_col, usecols, squeeze, prefix, mangle_dupe_cols, dtype, engine, converters, true_values, false_values, skipinitialspace, skiprows, nrows, na_values, keep_default_na, na_filter, verbose, skip_blank_lines, parse_dates, infer_datetime_format, keep_date_col, date_parser, dayfirst, iterator, chunksize, compression, thousands, decimal, lineterminator, quotechar, quoting, escapechar, comment, encoding, dialect, tupleize_cols, error_bad_lines, warn_bad_lines, skipfooter, doublequote, delim_whitespace, low_memory, memory_map, float_precision)\u001b[0m\n\u001b[0;32m    676\u001b[0m                     skip_blank_lines=skip_blank_lines)\n\u001b[0;32m    677\u001b[0m \u001b[1;33m\u001b[0m\u001b[0m\n\u001b[1;32m--> 678\u001b[1;33m         \u001b[1;32mreturn\u001b[0m \u001b[0m_read\u001b[0m\u001b[1;33m(\u001b[0m\u001b[0mfilepath_or_buffer\u001b[0m\u001b[1;33m,\u001b[0m \u001b[0mkwds\u001b[0m\u001b[1;33m)\u001b[0m\u001b[1;33m\u001b[0m\u001b[0m\n\u001b[0m\u001b[0;32m    679\u001b[0m \u001b[1;33m\u001b[0m\u001b[0m\n\u001b[0;32m    680\u001b[0m     \u001b[0mparser_f\u001b[0m\u001b[1;33m.\u001b[0m\u001b[0m__name__\u001b[0m \u001b[1;33m=\u001b[0m \u001b[0mname\u001b[0m\u001b[1;33m\u001b[0m\u001b[0m\n",
      "\u001b[1;32mC:\\Intel\\New folder\\lib\\site-packages\\pandas\\io\\parsers.py\u001b[0m in \u001b[0;36m_read\u001b[1;34m(filepath_or_buffer, kwds)\u001b[0m\n\u001b[0;32m    438\u001b[0m \u001b[1;33m\u001b[0m\u001b[0m\n\u001b[0;32m    439\u001b[0m     \u001b[1;31m# Create the parser.\u001b[0m\u001b[1;33m\u001b[0m\u001b[1;33m\u001b[0m\u001b[0m\n\u001b[1;32m--> 440\u001b[1;33m     \u001b[0mparser\u001b[0m \u001b[1;33m=\u001b[0m \u001b[0mTextFileReader\u001b[0m\u001b[1;33m(\u001b[0m\u001b[0mfilepath_or_buffer\u001b[0m\u001b[1;33m,\u001b[0m \u001b[1;33m**\u001b[0m\u001b[0mkwds\u001b[0m\u001b[1;33m)\u001b[0m\u001b[1;33m\u001b[0m\u001b[0m\n\u001b[0m\u001b[0;32m    441\u001b[0m \u001b[1;33m\u001b[0m\u001b[0m\n\u001b[0;32m    442\u001b[0m     \u001b[1;32mif\u001b[0m \u001b[0mchunksize\u001b[0m \u001b[1;32mor\u001b[0m \u001b[0miterator\u001b[0m\u001b[1;33m:\u001b[0m\u001b[1;33m\u001b[0m\u001b[0m\n",
      "\u001b[1;32mC:\\Intel\\New folder\\lib\\site-packages\\pandas\\io\\parsers.py\u001b[0m in \u001b[0;36m__init__\u001b[1;34m(self, f, engine, **kwds)\u001b[0m\n\u001b[0;32m    785\u001b[0m             \u001b[0mself\u001b[0m\u001b[1;33m.\u001b[0m\u001b[0moptions\u001b[0m\u001b[1;33m[\u001b[0m\u001b[1;34m'has_index_names'\u001b[0m\u001b[1;33m]\u001b[0m \u001b[1;33m=\u001b[0m \u001b[0mkwds\u001b[0m\u001b[1;33m[\u001b[0m\u001b[1;34m'has_index_names'\u001b[0m\u001b[1;33m]\u001b[0m\u001b[1;33m\u001b[0m\u001b[0m\n\u001b[0;32m    786\u001b[0m \u001b[1;33m\u001b[0m\u001b[0m\n\u001b[1;32m--> 787\u001b[1;33m         \u001b[0mself\u001b[0m\u001b[1;33m.\u001b[0m\u001b[0m_make_engine\u001b[0m\u001b[1;33m(\u001b[0m\u001b[0mself\u001b[0m\u001b[1;33m.\u001b[0m\u001b[0mengine\u001b[0m\u001b[1;33m)\u001b[0m\u001b[1;33m\u001b[0m\u001b[0m\n\u001b[0m\u001b[0;32m    788\u001b[0m \u001b[1;33m\u001b[0m\u001b[0m\n\u001b[0;32m    789\u001b[0m     \u001b[1;32mdef\u001b[0m \u001b[0mclose\u001b[0m\u001b[1;33m(\u001b[0m\u001b[0mself\u001b[0m\u001b[1;33m)\u001b[0m\u001b[1;33m:\u001b[0m\u001b[1;33m\u001b[0m\u001b[0m\n",
      "\u001b[1;32mC:\\Intel\\New folder\\lib\\site-packages\\pandas\\io\\parsers.py\u001b[0m in \u001b[0;36m_make_engine\u001b[1;34m(self, engine)\u001b[0m\n\u001b[0;32m   1012\u001b[0m     \u001b[1;32mdef\u001b[0m \u001b[0m_make_engine\u001b[0m\u001b[1;33m(\u001b[0m\u001b[0mself\u001b[0m\u001b[1;33m,\u001b[0m \u001b[0mengine\u001b[0m\u001b[1;33m=\u001b[0m\u001b[1;34m'c'\u001b[0m\u001b[1;33m)\u001b[0m\u001b[1;33m:\u001b[0m\u001b[1;33m\u001b[0m\u001b[0m\n\u001b[0;32m   1013\u001b[0m         \u001b[1;32mif\u001b[0m \u001b[0mengine\u001b[0m \u001b[1;33m==\u001b[0m \u001b[1;34m'c'\u001b[0m\u001b[1;33m:\u001b[0m\u001b[1;33m\u001b[0m\u001b[0m\n\u001b[1;32m-> 1014\u001b[1;33m             \u001b[0mself\u001b[0m\u001b[1;33m.\u001b[0m\u001b[0m_engine\u001b[0m \u001b[1;33m=\u001b[0m \u001b[0mCParserWrapper\u001b[0m\u001b[1;33m(\u001b[0m\u001b[0mself\u001b[0m\u001b[1;33m.\u001b[0m\u001b[0mf\u001b[0m\u001b[1;33m,\u001b[0m \u001b[1;33m**\u001b[0m\u001b[0mself\u001b[0m\u001b[1;33m.\u001b[0m\u001b[0moptions\u001b[0m\u001b[1;33m)\u001b[0m\u001b[1;33m\u001b[0m\u001b[0m\n\u001b[0m\u001b[0;32m   1015\u001b[0m         \u001b[1;32melse\u001b[0m\u001b[1;33m:\u001b[0m\u001b[1;33m\u001b[0m\u001b[0m\n\u001b[0;32m   1016\u001b[0m             \u001b[1;32mif\u001b[0m \u001b[0mengine\u001b[0m \u001b[1;33m==\u001b[0m \u001b[1;34m'python'\u001b[0m\u001b[1;33m:\u001b[0m\u001b[1;33m\u001b[0m\u001b[0m\n",
      "\u001b[1;32mC:\\Intel\\New folder\\lib\\site-packages\\pandas\\io\\parsers.py\u001b[0m in \u001b[0;36m__init__\u001b[1;34m(self, src, **kwds)\u001b[0m\n\u001b[0;32m   1706\u001b[0m         \u001b[0mkwds\u001b[0m\u001b[1;33m[\u001b[0m\u001b[1;34m'usecols'\u001b[0m\u001b[1;33m]\u001b[0m \u001b[1;33m=\u001b[0m \u001b[0mself\u001b[0m\u001b[1;33m.\u001b[0m\u001b[0musecols\u001b[0m\u001b[1;33m\u001b[0m\u001b[0m\n\u001b[0;32m   1707\u001b[0m \u001b[1;33m\u001b[0m\u001b[0m\n\u001b[1;32m-> 1708\u001b[1;33m         \u001b[0mself\u001b[0m\u001b[1;33m.\u001b[0m\u001b[0m_reader\u001b[0m \u001b[1;33m=\u001b[0m \u001b[0mparsers\u001b[0m\u001b[1;33m.\u001b[0m\u001b[0mTextReader\u001b[0m\u001b[1;33m(\u001b[0m\u001b[0msrc\u001b[0m\u001b[1;33m,\u001b[0m \u001b[1;33m**\u001b[0m\u001b[0mkwds\u001b[0m\u001b[1;33m)\u001b[0m\u001b[1;33m\u001b[0m\u001b[0m\n\u001b[0m\u001b[0;32m   1709\u001b[0m \u001b[1;33m\u001b[0m\u001b[0m\n\u001b[0;32m   1710\u001b[0m         \u001b[0mpassed_names\u001b[0m \u001b[1;33m=\u001b[0m \u001b[0mself\u001b[0m\u001b[1;33m.\u001b[0m\u001b[0mnames\u001b[0m \u001b[1;32mis\u001b[0m \u001b[1;32mNone\u001b[0m\u001b[1;33m\u001b[0m\u001b[0m\n",
      "\u001b[1;32mpandas\\_libs\\parsers.pyx\u001b[0m in \u001b[0;36mpandas._libs.parsers.TextReader.__cinit__\u001b[1;34m()\u001b[0m\n",
      "\u001b[1;32mpandas\\_libs\\parsers.pyx\u001b[0m in \u001b[0;36mpandas._libs.parsers.TextReader._setup_parser_source\u001b[1;34m()\u001b[0m\n",
      "\u001b[1;31mFileNotFoundError\u001b[0m: File b'purchase_data.csv' does not exist"
     ]
    }
   ],
   "source": [
    "# Dependencies and Setup\n",
    "import pandas as pd\n",
    "import numpy as np\n",
    "\n",
    "# File to Load (Remember to Change These)\n",
    "purchase_data =  pd.read_csv(\"purchase_data.csv\")\n",
    "\n",
    "purchase_df = pd.DataFrame(purchase_data)\n",
    "purchase_df.head()\n",
    "#Q1 Print total number of players.\n",
    "\n"
   ]
  },
  {
   "cell_type": "code",
   "execution_count": null,
   "metadata": {},
   "outputs": [],
   "source": [
    "#PLAYER COUNT\n",
    "#Q1 Print total number of players.\n",
    "\n",
    "total_players = purchase_df[\"SN\"].nunique()\n",
    "\n",
    "total_players\n"
   ]
  },
  {
   "cell_type": "code",
   "execution_count": null,
   "metadata": {},
   "outputs": [],
   "source": [
    "#PURCHASING ANALYSIS:\n",
    "# Q2 Number of unique items\n",
    "\n",
    "unique_items = pd.Series(purchase_df[\"Item ID\"]).nunique()\n",
    "unique_items\n"
   ]
  },
  {
   "cell_type": "code",
   "execution_count": null,
   "metadata": {},
   "outputs": [],
   "source": [
    "# Q3Average purchase price\n",
    "average_item_price = purchase_df[\"Price\"].mean()\n",
    "average_item_price"
   ]
  },
  {
   "cell_type": "code",
   "execution_count": null,
   "metadata": {},
   "outputs": [],
   "source": [
    "#Q4 Total number of purchases\n",
    "total_purchase = purchase_df[\"Purchase ID\"].count()\n",
    "total_purchase\n"
   ]
  },
  {
   "cell_type": "code",
   "execution_count": null,
   "metadata": {},
   "outputs": [],
   "source": [
    "#Q5 Total Revenue\n",
    "\n",
    "total_revenue = purchase_df['Price'].sum()\n",
    "total_revenue\n",
    "Purchase_Analysis = pd.DataFrame({\"Total_players\": [total_players], \n",
    "                                  \"Unique_items\": [unique_items],\n",
    "                                  \"Total_purchase\":[total_purchase],\n",
    "                                  \"Average_item_price\": [average_item_price],\n",
    "                                  \"Total_revenue\": [total_revenue]})\n",
    "Purchase_Analysis.round(2)"
   ]
  },
  {
   "cell_type": "code",
   "execution_count": null,
   "metadata": {},
   "outputs": [],
   "source": [
    "# GENDER DEMOGRAPHICS(Method 1)\n",
    "\n",
    "#Q6 Percentage and count of Male players\n",
    "total_gender_count = purchase_df[\"SN\"].count()\n",
    "total_gender_count\n",
    "Unique_Gender_counts = purchase_df['Gender'].value_counts()\n",
    "Unique_Gender_counts\n",
    "Total_perc_count = (Unique_Gender_counts / total_gender_count)*100\n",
    "Total_perc_count\n",
    "Gender_Type = pd.Series(purchase_df[\"Gender\"]).unique()\n",
    "Gender_Type\n",
    "#Gender_df = pd.DataFrame({\"Gender\": [\"Male\", \"Female\", \"Other\"],\n",
    "                      #    \"Total Count\": [Unique_Gender_counts],\n",
    "                     #     \"Percentage of Players\": [Total_perc_count]\n",
    "                      #   })\n",
    "#Gender_df.set_index('Gender')\n",
    "#Gender_df\n",
    "\n"
   ]
  },
  {
   "cell_type": "code",
   "execution_count": null,
   "metadata": {},
   "outputs": [],
   "source": [
    "# GENDER DEMOGRAPHICS(Method 2)\n",
    "\n",
    "Group_Gender = purchase_df[[ \"Gender\"]]\n",
    "Group_Gender\n",
    "#male_count = Group_Gender.loc[Group_Gender.Gender == \"Male\"].count()\n",
    "#male_count1= (purchase_df.Gender == \"Male\").count()\n",
    "male_count = purchase_df.query('Gender == \"Male\"').Gender.count()\n",
    "male_count\n",
    "female_count = purchase_df.query('Gender == \"Female\"').Gender.count()\n",
    "female_count\n",
    "#other_non-disclosed_count = purchase_df.query('Gender == \"Other / Non-Disclosed\"').Gender.count()\n",
    "Other_df= purchase_df.groupby(['Gender']).get_group(('Other / Non-Disclosed')).count()\n",
    "other_count = Other_df.count()\n",
    "other_count\n",
    "\n",
    "Male_Percent = male_count/total_gender_count*100\n",
    "Female_Percent = female_count/total_gender_count*100\n",
    "Other_Percent = other_count/total_gender_count*100\n",
    "\n",
    "Gender_demo_df =pd.DataFrame({\"Gender\": [\"Male\", \"Female\", \"Other/Non-Disclosed\"],\n",
    "                             \"Total Count\": [male_count, female_count, other_count],\n",
    "                             \"Percentage of Players\": [Male_Percent, Female_Percent,Other_Percent]})\n",
    "Gender_demo_df.set_index('Gender').round(2)\n"
   ]
  },
  {
   "cell_type": "code",
   "execution_count": null,
   "metadata": {},
   "outputs": [],
   "source": [
    "# Purchasing Analysis\n",
    "#Q1 Get Purchase count, avg purchase price, avg purchase total per person by gender\n",
    "\n",
    "# Purchase count\n",
    "male_price_count = purchase_df.groupby(['Gender']).get_group(('Male'))['Price'].sum()\n",
    "male_avg_price= male_price_count/male_count\n",
    "female_price_count = purchase_df.groupby(['Gender']).get_group(('Female'))['Price'].sum()\n",
    "female_avg_price=female_price_count/female_count\n",
    "other_price_count = purchase_df.groupby(['Gender']).get_group(('Other / Non-Disclosed'))['Price'].sum()\n",
    "other_avg_price= other_price_count/other_count\n",
    "male_purch_perperson = male_price_count/total_purchase\n",
    "male_purch_perperson\n",
    "female_purch_perperson = female_price_count/total_purchase\n",
    "other_purch_perperson = other_price_count/total_purchase\n",
    "other_purch_perperson\n",
    "\n",
    "purch_analysis_df = pd.DataFrame({\"Gender\": [\"Male\", \"Female\", \"Other/non-disclosed\"],\n",
    "                                  \"Purchase Count\": [male_count, female_count, other_count],\n",
    "                                  \"Average Purchase Price\": [male_avg_price, female_avg_price, other_avg_price],\n",
    "                                  \"Total purchase value\": [male_price_count, female_price_count, other_price_count],\n",
    "                                  \"Avg Total Purchase per Person\":[male_purch_perperson, female_purch_perperson ,other_purch_perperson ] })\n",
    "purch_analysis_df.set_index('Gender').round(2)"
   ]
  },
  {
   "cell_type": "code",
   "execution_count": null,
   "metadata": {},
   "outputs": [],
   "source": [
    "#Age Demographics\n",
    "max_age = purchase_df['Age'].max()\n",
    "min_age = purchase_df['Age'].min()\n",
    "print(max_age, min_age)\n",
    "#establish bins\n",
    "\n",
    "bins =[0,10,14,19,24,29,34,39,45]\n",
    "label_names = [\"<10\", \"10-14\", \"15-19\", \"20-24\", \"25-29\", \"30-34\", \"35-39\", \"40+\"]\n",
    "\n",
    "purchase_df[\"Age_bin\"] = pd.cut(purchase_df[\"Age\"], bins, labels=label_names)"
   ]
  },
  {
   "cell_type": "code",
   "execution_count": null,
   "metadata": {},
   "outputs": [],
   "source": [
    "bin_df = purchase_df.copy()\n",
    "bin_df[\"Age_bin\"] = pd.cut(bin_df[\"Age\"], bins, labels=label_names)\n",
    "bin_df.head()\n"
   ]
  },
  {
   "cell_type": "code",
   "execution_count": 3,
   "metadata": {},
   "outputs": [
    {
     "ename": "NameError",
     "evalue": "name 'bin_df' is not defined",
     "output_type": "error",
     "traceback": [
      "\u001b[1;31m---------------------------------------------------------------------------\u001b[0m",
      "\u001b[1;31mNameError\u001b[0m                                 Traceback (most recent call last)",
      "\u001b[1;32m<ipython-input-3-6b826485e68b>\u001b[0m in \u001b[0;36m<module>\u001b[1;34m()\u001b[0m\n\u001b[0;32m      1\u001b[0m \u001b[1;31m#Total count for Age demographivs and purchase count for Purchase analysis (Age)\u001b[0m\u001b[1;33m\u001b[0m\u001b[1;33m\u001b[0m\u001b[0m\n\u001b[0;32m      2\u001b[0m \u001b[1;33m\u001b[0m\u001b[0m\n\u001b[1;32m----> 3\u001b[1;33m \u001b[0mcount_10\u001b[0m \u001b[1;33m=\u001b[0m \u001b[0mbin_df\u001b[0m\u001b[1;33m.\u001b[0m\u001b[0mgroupby\u001b[0m\u001b[1;33m(\u001b[0m\u001b[1;33m[\u001b[0m\u001b[1;34m\"Age_bin\"\u001b[0m\u001b[1;33m]\u001b[0m\u001b[1;33m)\u001b[0m\u001b[1;33m.\u001b[0m\u001b[0mget_group\u001b[0m\u001b[1;33m(\u001b[0m\u001b[1;33m(\u001b[0m\u001b[1;34m\"<10\"\u001b[0m\u001b[1;33m)\u001b[0m\u001b[1;33m)\u001b[0m\u001b[1;33m[\u001b[0m\u001b[1;34m\"SN\"\u001b[0m\u001b[1;33m]\u001b[0m\u001b[1;33m.\u001b[0m\u001b[0mcount\u001b[0m\u001b[1;33m(\u001b[0m\u001b[1;33m)\u001b[0m\u001b[1;33m\u001b[0m\u001b[0m\n\u001b[0m\u001b[0;32m      4\u001b[0m \u001b[0mcount_10\u001b[0m\u001b[1;33m\u001b[0m\u001b[0m\n\u001b[0;32m      5\u001b[0m \u001b[0mcount_14\u001b[0m \u001b[1;33m=\u001b[0m \u001b[0mbin_df\u001b[0m\u001b[1;33m.\u001b[0m\u001b[0mgroupby\u001b[0m\u001b[1;33m(\u001b[0m\u001b[1;33m[\u001b[0m\u001b[1;34m\"Age_bin\"\u001b[0m\u001b[1;33m]\u001b[0m\u001b[1;33m)\u001b[0m\u001b[1;33m.\u001b[0m\u001b[0mget_group\u001b[0m\u001b[1;33m(\u001b[0m\u001b[1;33m(\u001b[0m\u001b[1;34m\"10-14\"\u001b[0m\u001b[1;33m)\u001b[0m\u001b[1;33m)\u001b[0m\u001b[1;33m[\u001b[0m\u001b[1;34m\"SN\"\u001b[0m\u001b[1;33m]\u001b[0m\u001b[1;33m.\u001b[0m\u001b[0mcount\u001b[0m\u001b[1;33m(\u001b[0m\u001b[1;33m)\u001b[0m\u001b[1;33m\u001b[0m\u001b[0m\n",
      "\u001b[1;31mNameError\u001b[0m: name 'bin_df' is not defined"
     ]
    }
   ],
   "source": [
    "#Total count for Age demographivs and purchase count for Purchase analysis (Age)\n",
    "\n",
    "count_10 = bin_df.groupby([\"Age_bin\"]).get_group((\"<10\"))[\"SN\"].count()\n",
    "count_10\n",
    "count_14 = bin_df.groupby([\"Age_bin\"]).get_group((\"10-14\"))[\"SN\"].count()\n",
    "count_14\n",
    "count_19 = bin_df.groupby([\"Age_bin\"]).get_group((\"15-19\"))[\"SN\"].count()\n",
    "count_24 = bin_df.groupby([\"Age_bin\"]).get_group((\"20-24\"))[\"SN\"].count()\n",
    "count_29 = bin_df.groupby([\"Age_bin\"]).get_group((\"25-29\"))[\"SN\"].count()\n",
    "count_34 = bin_df.groupby([\"Age_bin\"]).get_group((\"30-34\"))[\"SN\"].count()\n",
    "count_39 = bin_df.groupby([\"Age_bin\"]).get_group((\"35-39\"))[\"SN\"].count()\n",
    "count_45 = bin_df.groupby([\"Age_bin\"]).get_group((\"40+\"))[\"SN\"].count()\n",
    "totalcount = count_10 + count_14+ count_19 + count_24 + count_29 + count_34 + count_39+count_45\n",
    "Age_Demos = pd.DataFrame({\"Bins\":[\"<10\", \"10-14\", \"15-19\", \"20-24\", \"25-29\", \"30-34\", \"35-39\", \"40+\"],\n",
    "                          \"Total Counts\":[count_10, count_14, count_19, count_24, count_29, count_34, count_39, count_45],\n",
    "                          \"Percentage of players\":[count_10/totalcount*100, count_14/totalcount*100, count_19/totalcount*100, count_24/totalcount*100, count_29/totalcount*100, count_34/totalcount*100, count_39/totalcount*100, count_45/totalcount*100]\n",
    "                           })\n",
    "\n",
    "Age_Demos.set_index('Bins').round(2)"
   ]
  },
  {
   "cell_type": "code",
   "execution_count": 4,
   "metadata": {},
   "outputs": [
    {
     "ename": "NameError",
     "evalue": "name 'bin_df' is not defined",
     "output_type": "error",
     "traceback": [
      "\u001b[1;31m---------------------------------------------------------------------------\u001b[0m",
      "\u001b[1;31mNameError\u001b[0m                                 Traceback (most recent call last)",
      "\u001b[1;32m<ipython-input-4-c9ff64374739>\u001b[0m in \u001b[0;36m<module>\u001b[1;34m()\u001b[0m\n\u001b[0;32m      1\u001b[0m \u001b[1;31m# Age Purchase Analysis\u001b[0m\u001b[1;33m\u001b[0m\u001b[1;33m\u001b[0m\u001b[0m\n\u001b[1;32m----> 2\u001b[1;33m \u001b[0mpcount_10\u001b[0m \u001b[1;33m=\u001b[0m \u001b[0mbin_df\u001b[0m\u001b[1;33m.\u001b[0m\u001b[0mgroupby\u001b[0m\u001b[1;33m(\u001b[0m\u001b[1;33m[\u001b[0m\u001b[1;34m\"Age_bin\"\u001b[0m\u001b[1;33m]\u001b[0m\u001b[1;33m)\u001b[0m\u001b[1;33m.\u001b[0m\u001b[0mget_group\u001b[0m\u001b[1;33m(\u001b[0m\u001b[1;33m(\u001b[0m\u001b[1;34m\"<10\"\u001b[0m\u001b[1;33m)\u001b[0m\u001b[1;33m)\u001b[0m\u001b[1;33m[\u001b[0m\u001b[1;34m\"Price\"\u001b[0m\u001b[1;33m]\u001b[0m\u001b[1;33m.\u001b[0m\u001b[0msum\u001b[0m\u001b[1;33m(\u001b[0m\u001b[1;33m)\u001b[0m\u001b[1;33m\u001b[0m\u001b[0m\n\u001b[0m\u001b[0;32m      3\u001b[0m \u001b[1;33m\u001b[0m\u001b[0m\n\u001b[0;32m      4\u001b[0m \u001b[0mpcount_14\u001b[0m \u001b[1;33m=\u001b[0m \u001b[0mbin_df\u001b[0m\u001b[1;33m.\u001b[0m\u001b[0mgroupby\u001b[0m\u001b[1;33m(\u001b[0m\u001b[1;33m[\u001b[0m\u001b[1;34m\"Age_bin\"\u001b[0m\u001b[1;33m]\u001b[0m\u001b[1;33m)\u001b[0m\u001b[1;33m.\u001b[0m\u001b[0mget_group\u001b[0m\u001b[1;33m(\u001b[0m\u001b[1;33m(\u001b[0m\u001b[1;34m\"10-14\"\u001b[0m\u001b[1;33m)\u001b[0m\u001b[1;33m)\u001b[0m\u001b[1;33m[\u001b[0m\u001b[1;34m\"Price\"\u001b[0m\u001b[1;33m]\u001b[0m\u001b[1;33m.\u001b[0m\u001b[0msum\u001b[0m\u001b[1;33m(\u001b[0m\u001b[1;33m)\u001b[0m\u001b[1;33m\u001b[0m\u001b[0m\n\u001b[0;32m      5\u001b[0m \u001b[0mcount_14\u001b[0m\u001b[1;33m\u001b[0m\u001b[0m\n",
      "\u001b[1;31mNameError\u001b[0m: name 'bin_df' is not defined"
     ]
    }
   ],
   "source": [
    "# Age Purchase Analysis\n",
    "pcount_10 = bin_df.groupby([\"Age_bin\"]).get_group((\"<10\"))[\"Price\"].sum()\n",
    "\n",
    "pcount_14 = bin_df.groupby([\"Age_bin\"]).get_group((\"10-14\"))[\"Price\"].sum()\n",
    "count_14\n",
    "pcount_19 = bin_df.groupby([\"Age_bin\"]).get_group((\"15-19\"))[\"Price\"].sum()\n",
    "pcount_24 = bin_df.groupby([\"Age_bin\"]).get_group((\"20-24\"))[\"Price\"].sum()\n",
    "pcount_29 = bin_df.groupby([\"Age_bin\"]).get_group((\"25-29\"))[\"Price\"].sum()\n",
    "pcount_34 = bin_df.groupby([\"Age_bin\"]).get_group((\"30-34\"))[\"Price\"].sum()\n",
    "pcount_39 = bin_df.groupby([\"Age_bin\"]).get_group((\"35-39\"))[\"Price\"].sum()\n",
    "pcount_45 = bin_df.groupby([\"Age_bin\"]).get_group((\"40+\"))[\"Price\"].sum()\n",
    "\n",
    "totalpurchase = pcount_10 + pcount_14+ pcount_19 + pcount_24 + pcount_29 + pcount_34 + pcount_39+ pcount_45\n",
    "avg_purch_count= [pcount_10/count_10, pcount_14/count_14, pcount_19/count_19, pcount_24/count_24, pcount_29/count_29, pcount_34/count_34, pcount_39/count_39, pcount_45/count_45]\n",
    "Total_avg_purch_count= sum(avg_purch_count)\n",
    "Age_Purch_Demos = pd.DataFrame({\"Bins\":[\"<10\", \"10-14\", \"15-19\", \"20-24\", \"25-29\", \"30-34\", \"35-39\", \"40+\"],\n",
    "                          \"Purchase Counts\":[count_10, count_14, count_19, count_24, count_29, count_34, count_39, count_45],\n",
    "                    \"Average Purchase Count\": [pcount_10/count_10, pcount_14/count_14, pcount_19/count_19, pcount_24/count_24, pcount_29/count_29, pcount_34/count_34, pcount_39/count_39, pcount_45/count_45],\n",
    "                          \"Total Purchase\":[pcount_10, pcount_14, pcount_19, pcount_24, pcount_29, pcount_34, pcount_39, pcount_45],\n",
    "                         \"Avg total Purchase per person\": [pcount_10/Total_avg_purch_count, pcount_14/Total_avg_purch_count, pcount_19/Total_avg_purch_count, pcount_24/Total_avg_purch_count, pcount_29/Total_avg_purch_count, pcount_34/Total_avg_purch_count, pcount_39/Total_avg_purch_count, pcount_45/Total_avg_purch_count]    })\n",
    "\n",
    "#Total_avg_purch_count = Age_Purch_Demos[\"Average Purchase Count\"].sum()\n",
    "Age_Purch_Demos.set_index('Bins').round(2)\n",
    "\n"
   ]
  },
  {
   "cell_type": "code",
   "execution_count": 5,
   "metadata": {},
   "outputs": [
    {
     "ename": "NameError",
     "evalue": "name 'purchase_df' is not defined",
     "output_type": "error",
     "traceback": [
      "\u001b[1;31m---------------------------------------------------------------------------\u001b[0m",
      "\u001b[1;31mNameError\u001b[0m                                 Traceback (most recent call last)",
      "\u001b[1;32m<ipython-input-5-ce916d6baa07>\u001b[0m in \u001b[0;36m<module>\u001b[1;34m()\u001b[0m\n\u001b[0;32m      1\u001b[0m \u001b[1;31m# Top Spenders\u001b[0m\u001b[1;33m\u001b[0m\u001b[1;33m\u001b[0m\u001b[0m\n\u001b[0;32m      2\u001b[0m \u001b[1;33m\u001b[0m\u001b[0m\n\u001b[1;32m----> 3\u001b[1;33m \u001b[0mnew_df\u001b[0m \u001b[1;33m=\u001b[0m \u001b[0mpurchase_df\u001b[0m\u001b[1;33m[\u001b[0m\u001b[1;33m[\u001b[0m\u001b[1;34m\"SN\"\u001b[0m\u001b[1;33m,\u001b[0m \u001b[1;34m\"Price\"\u001b[0m\u001b[1;33m,\u001b[0m \u001b[1;33m]\u001b[0m\u001b[1;33m]\u001b[0m\u001b[1;33m\u001b[0m\u001b[0m\n\u001b[0m\u001b[0;32m      4\u001b[0m \u001b[0mnew_df\u001b[0m\u001b[1;33m\u001b[0m\u001b[0m\n\u001b[0;32m      5\u001b[0m \u001b[0mpurch_count\u001b[0m \u001b[1;33m=\u001b[0m \u001b[0mpurchase_df\u001b[0m\u001b[1;33m.\u001b[0m\u001b[0mgroupby\u001b[0m\u001b[1;33m(\u001b[0m\u001b[1;33m[\u001b[0m\u001b[1;34m\"SN\"\u001b[0m\u001b[1;33m]\u001b[0m\u001b[1;33m)\u001b[0m\u001b[1;33m[\u001b[0m\u001b[1;34m\"Price\"\u001b[0m\u001b[1;33m]\u001b[0m\u001b[1;33m.\u001b[0m\u001b[0mcount\u001b[0m\u001b[1;33m(\u001b[0m\u001b[1;33m)\u001b[0m\u001b[1;33m\u001b[0m\u001b[0m\n",
      "\u001b[1;31mNameError\u001b[0m: name 'purchase_df' is not defined"
     ]
    }
   ],
   "source": [
    "# Top Spenders\n",
    "\n",
    "new_df = purchase_df[[\"SN\", \"Price\", ]]\n",
    "new_df\n",
    "purch_count = purchase_df.groupby([\"SN\"])[\"Price\"].count()\n",
    "total_purch = purchase_df.groupby([\"SN\"])[\"Price\"].sum()\n",
    "avg_purch = total_purch/purch_count\n",
    "\n",
    "Top_spend = pd.DataFrame({\"Purchase Count\": purch_count,\n",
    "                         \"Average Purchase Price\": avg_purch,\n",
    "                         \"Total Purchase Value\": total_purch})\n",
    "Top_spend.sort_values(\"Total Purchase Value\", ascending = False).head(5).round(2)"
   ]
  },
  {
   "cell_type": "code",
   "execution_count": 6,
   "metadata": {},
   "outputs": [
    {
     "ename": "NameError",
     "evalue": "name 'purchase_df' is not defined",
     "output_type": "error",
     "traceback": [
      "\u001b[1;31m---------------------------------------------------------------------------\u001b[0m",
      "\u001b[1;31mNameError\u001b[0m                                 Traceback (most recent call last)",
      "\u001b[1;32m<ipython-input-6-21524ae8d03d>\u001b[0m in \u001b[0;36m<module>\u001b[1;34m()\u001b[0m\n\u001b[0;32m      1\u001b[0m \u001b[1;31m# Most Popular Items\u001b[0m\u001b[1;33m\u001b[0m\u001b[1;33m\u001b[0m\u001b[0m\n\u001b[1;32m----> 2\u001b[1;33m \u001b[0mdf_new\u001b[0m \u001b[1;33m=\u001b[0m \u001b[0mpurchase_df\u001b[0m\u001b[1;33m.\u001b[0m\u001b[0mloc\u001b[0m\u001b[1;33m[\u001b[0m\u001b[1;33m:\u001b[0m\u001b[1;33m,\u001b[0m\u001b[1;33m[\u001b[0m\u001b[1;34m\"Item ID\"\u001b[0m\u001b[1;33m,\u001b[0m\u001b[1;34m\"Item Name\"\u001b[0m\u001b[1;33m,\u001b[0m \u001b[1;34m\"Price\"\u001b[0m\u001b[1;33m]\u001b[0m\u001b[1;33m]\u001b[0m\u001b[1;33m\u001b[0m\u001b[0m\n\u001b[0m\u001b[0;32m      3\u001b[0m \u001b[1;33m\u001b[0m\u001b[0m\n\u001b[0;32m      4\u001b[0m \u001b[1;31m#profitable_item =df_new.sort_values()\u001b[0m\u001b[1;33m\u001b[0m\u001b[1;33m\u001b[0m\u001b[0m\n\u001b[0;32m      5\u001b[0m \u001b[0mpurch_count\u001b[0m\u001b[1;33m=\u001b[0m\u001b[0mdf_new\u001b[0m\u001b[1;33m.\u001b[0m\u001b[0mgroupby\u001b[0m\u001b[1;33m(\u001b[0m\u001b[1;33m[\u001b[0m \u001b[1;34m\"Item ID\"\u001b[0m\u001b[1;33m,\u001b[0m\u001b[1;34m\"Item Name\"\u001b[0m\u001b[1;33m]\u001b[0m\u001b[1;33m)\u001b[0m\u001b[1;33m.\u001b[0m\u001b[0mcount\u001b[0m\u001b[1;33m(\u001b[0m\u001b[1;33m)\u001b[0m\u001b[1;33m[\u001b[0m\u001b[1;34m\"Price\"\u001b[0m\u001b[1;33m]\u001b[0m\u001b[1;33m.\u001b[0m\u001b[0mrename\u001b[0m\u001b[1;33m(\u001b[0m\u001b[1;34m\"Purchase Count\"\u001b[0m\u001b[1;33m)\u001b[0m\u001b[1;33m\u001b[0m\u001b[0m\n",
      "\u001b[1;31mNameError\u001b[0m: name 'purchase_df' is not defined"
     ]
    }
   ],
   "source": [
    "# Most Popular Items\n",
    "df_new = purchase_df.loc[:,[\"Item ID\",\"Item Name\", \"Price\"]]\n",
    "\n",
    "#profitable_item =df_new.sort_values()\n",
    "purch_count=df_new.groupby([ \"Item ID\",\"Item Name\"]).count()[\"Price\"].rename(\"Purchase Count\")\n",
    "\n",
    "#purchase_df.sort_values(by=[\"Item Name\"])\n",
    "purch_count\n",
    "item_price =df_new.groupby([\"Item ID\",\"Item Name\"]).mean()[\"Price\"].rename(\"Item Price\")\n",
    "total_purchase= df_new.groupby([\"Item ID\",\"Item Name\"]).sum()[\"Price\"].rename(\"Total Purchase Value\")\n",
    "\n",
    "Summary_data = pd.DataFrame({\"Purchase Count\":purch_count,\n",
    "                             \"Item Price\": item_price,\n",
    "                             \"Total Purchase Value\": total_purchase} )\n",
    "                            \n",
    "                            \n",
    "popular_items=Summary_data.sort_values(\"Purchase Count\", ascending =False)\n",
    "popular_items   \n",
    "\n",
    "Summary_data\n",
    "#total_purchase                            \n",
    "#item_count =df_new.groupby([\"Item Name\"]).count()\n",
    "#item_count.max()\n",
    "\n",
    "#group_itemnameid = purchase_df.groupby([\"Item ID\"]).count()\n",
    "#group_itemnameid \n",
    "most_profitable = Summary_data.sort_values(\"Total Purchase Value\", ascending = False)\n",
    "\n",
    "most_profitable\n"
   ]
  },
  {
   "cell_type": "code",
   "execution_count": null,
   "metadata": {},
   "outputs": [],
   "source": []
  },
  {
   "cell_type": "code",
   "execution_count": null,
   "metadata": {},
   "outputs": [],
   "source": []
  },
  {
   "cell_type": "code",
   "execution_count": null,
   "metadata": {},
   "outputs": [],
   "source": []
  },
  {
   "cell_type": "code",
   "execution_count": null,
   "metadata": {},
   "outputs": [],
   "source": []
  },
  {
   "cell_type": "code",
   "execution_count": null,
   "metadata": {},
   "outputs": [],
   "source": []
  }
 ],
 "metadata": {
  "kernelspec": {
   "display_name": "Python 3",
   "language": "python",
   "name": "python3"
  },
  "language_info": {
   "codemirror_mode": {
    "name": "ipython",
    "version": 3
   },
   "file_extension": ".py",
   "mimetype": "text/x-python",
   "name": "python",
   "nbconvert_exporter": "python",
   "pygments_lexer": "ipython3",
   "version": "3.7.0"
  }
 },
 "nbformat": 4,
 "nbformat_minor": 2
}
